{
 "cells": [
  {
   "cell_type": "code",
   "execution_count": 1,
   "metadata": {},
   "outputs": [],
   "source": [
    "from pathlib import Path\n",
    "\n",
    "import pandas as pd"
   ]
  },
  {
   "cell_type": "code",
   "execution_count": 2,
   "metadata": {},
   "outputs": [],
   "source": [
    "columns = [\"station\", \"delay_in_min\", \"train_name\", \"train_type\", \"is_canceled\", \"time\"]\n",
    "df_list = []\n",
    "for file in sorted(Path(\"../data\").iterdir())[-1:]:\n",
    "    df = pd.read_parquet(file, columns=columns)\n",
    "    df_list.append(df)\n",
    "df = pd.concat(df_list, ignore_index=True)"
   ]
  },
  {
   "cell_type": "code",
   "execution_count": 3,
   "metadata": {},
   "outputs": [
    {
     "data": {
      "text/html": [
       "<div>\n",
       "<style scoped>\n",
       "    .dataframe tbody tr th:only-of-type {\n",
       "        vertical-align: middle;\n",
       "    }\n",
       "\n",
       "    .dataframe tbody tr th {\n",
       "        vertical-align: top;\n",
       "    }\n",
       "\n",
       "    .dataframe thead th {\n",
       "        text-align: right;\n",
       "    }\n",
       "</style>\n",
       "<table border=\"1\" class=\"dataframe\">\n",
       "  <thead>\n",
       "    <tr style=\"text-align: right;\">\n",
       "      <th></th>\n",
       "      <th>station</th>\n",
       "      <th>delay_in_min</th>\n",
       "      <th>train_name</th>\n",
       "      <th>train_type</th>\n",
       "      <th>is_canceled</th>\n",
       "      <th>time</th>\n",
       "    </tr>\n",
       "  </thead>\n",
       "  <tbody>\n",
       "    <tr>\n",
       "      <th>0</th>\n",
       "      <td>Aachen Hbf</td>\n",
       "      <td>0</td>\n",
       "      <td>Bus RB20</td>\n",
       "      <td>Bus</td>\n",
       "      <td>False</td>\n",
       "      <td>2024-10-01 00:06:00</td>\n",
       "    </tr>\n",
       "    <tr>\n",
       "      <th>1</th>\n",
       "      <td>Aschaffenburg Hbf</td>\n",
       "      <td>7</td>\n",
       "      <td>RB 88</td>\n",
       "      <td>RB</td>\n",
       "      <td>False</td>\n",
       "      <td>2024-10-01 00:05:00</td>\n",
       "    </tr>\n",
       "    <tr>\n",
       "      <th>2</th>\n",
       "      <td>Aschaffenburg Hbf</td>\n",
       "      <td>29</td>\n",
       "      <td>ICE 520</td>\n",
       "      <td>ICE</td>\n",
       "      <td>False</td>\n",
       "      <td>2024-10-01 00:04:00</td>\n",
       "    </tr>\n",
       "    <tr>\n",
       "      <th>3</th>\n",
       "      <td>Augsburg Hbf</td>\n",
       "      <td>2</td>\n",
       "      <td>BRB RB67</td>\n",
       "      <td>BRB</td>\n",
       "      <td>False</td>\n",
       "      <td>2024-10-01 00:00:00</td>\n",
       "    </tr>\n",
       "    <tr>\n",
       "      <th>4</th>\n",
       "      <td>Augsburg Hbf</td>\n",
       "      <td>1</td>\n",
       "      <td>BRB RB13</td>\n",
       "      <td>BRB</td>\n",
       "      <td>False</td>\n",
       "      <td>2024-10-01 00:00:00</td>\n",
       "    </tr>\n",
       "  </tbody>\n",
       "</table>\n",
       "</div>"
      ],
      "text/plain": [
       "             station  delay_in_min train_name train_type  is_canceled  \\\n",
       "0         Aachen Hbf             0   Bus RB20        Bus        False   \n",
       "1  Aschaffenburg Hbf             7      RB 88         RB        False   \n",
       "2  Aschaffenburg Hbf            29    ICE 520        ICE        False   \n",
       "3       Augsburg Hbf             2   BRB RB67        BRB        False   \n",
       "4       Augsburg Hbf             1   BRB RB13        BRB        False   \n",
       "\n",
       "                 time  \n",
       "0 2024-10-01 00:06:00  \n",
       "1 2024-10-01 00:05:00  \n",
       "2 2024-10-01 00:04:00  \n",
       "3 2024-10-01 00:00:00  \n",
       "4 2024-10-01 00:00:00  "
      ]
     },
     "execution_count": 3,
     "metadata": {},
     "output_type": "execute_result"
    }
   ],
   "source": [
    "df.head()"
   ]
  },
  {
   "cell_type": "code",
   "execution_count": null,
   "metadata": {},
   "outputs": [],
   "source": []
  }
 ],
 "metadata": {
  "kernelspec": {
   "display_name": ".venv",
   "language": "python",
   "name": "python3"
  },
  "language_info": {
   "codemirror_mode": {
    "name": "ipython",
    "version": 3
   },
   "file_extension": ".py",
   "mimetype": "text/x-python",
   "name": "python",
   "nbconvert_exporter": "python",
   "pygments_lexer": "ipython3",
   "version": "3.12.3"
  }
 },
 "nbformat": 4,
 "nbformat_minor": 2
}
